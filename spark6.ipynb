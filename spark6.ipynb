{
  "nbformat": 4,
  "nbformat_minor": 0,
  "metadata": {
    "colab": {
      "provenance": []
    },
    "kernelspec": {
      "name": "python3",
      "display_name": "Python 3"
    },
    "language_info": {
      "name": "python"
    }
  },
  "cells": [
    {
      "cell_type": "code",
      "execution_count": 1,
      "metadata": {
        "id": "t_m6vrtkpfwu",
        "colab": {
          "base_uri": "https://localhost:8080/"
        },
        "outputId": "8b87ea91-2102-4004-90da-56590e3967e0"
      },
      "outputs": [
        {
          "output_type": "stream",
          "name": "stdout",
          "text": [
            "Looking in indexes: https://pypi.org/simple, https://us-python.pkg.dev/colab-wheels/public/simple/\n",
            "Requirement already satisfied: pyspark in /usr/local/lib/python3.8/dist-packages (3.3.1)\n",
            "Requirement already satisfied: py4j==0.10.9.5 in /usr/local/lib/python3.8/dist-packages (from pyspark) (0.10.9.5)\n"
          ]
        }
      ],
      "source": [
        "!pip install pyspark"
      ]
    },
    {
      "cell_type": "code",
      "source": [
        "from pyspark import  SparkContext"
      ],
      "metadata": {
        "id": "wFY2DCSR0_wd"
      },
      "execution_count": 2,
      "outputs": []
    },
    {
      "cell_type": "code",
      "source": [
        "sc = SparkContext('local','rdd map and flatmap programs').getOrCreate()"
      ],
      "metadata": {
        "id": "EeOwtPfP0_27"
      },
      "execution_count": 3,
      "outputs": []
    },
    {
      "cell_type": "code",
      "source": [
        "#DIFFERNCE OF MAP AND FLATMAP\n",
        "lst=[2,3,4]\n",
        "[(2,2),(2,2)]"
      ],
      "metadata": {
        "colab": {
          "base_uri": "https://localhost:8080/"
        },
        "id": "NTw62hE30_6b",
        "outputId": "3d2fcc93-df52-47cb-abce-9e0778db663d"
      },
      "execution_count": 5,
      "outputs": [
        {
          "output_type": "execute_result",
          "data": {
            "text/plain": [
              "[(2, 2), (2, 2)]"
            ]
          },
          "metadata": {},
          "execution_count": 5
        }
      ]
    },
    {
      "cell_type": "code",
      "source": [
        "lst_rdd = sc.parallelize(lst)"
      ],
      "metadata": {
        "id": "_qUO7F5R0_97"
      },
      "execution_count": 7,
      "outputs": []
    },
    {
      "cell_type": "code",
      "source": [
        "map_rdd= lst_rdd.map(lambda x: [(x,x),(x,x)])"
      ],
      "metadata": {
        "id": "ZuMEUiGZ1ABD"
      },
      "execution_count": 8,
      "outputs": []
    },
    {
      "cell_type": "code",
      "source": [
        "for x in map_rdd.collect():\n",
        "  print(x)"
      ],
      "metadata": {
        "colab": {
          "base_uri": "https://localhost:8080/"
        },
        "id": "sRR-q8f-1AD0",
        "outputId": "4060366e-3d76-44e5-d854-b42d70267574"
      },
      "execution_count": 9,
      "outputs": [
        {
          "output_type": "stream",
          "name": "stdout",
          "text": [
            "[(2, 2), (2, 2)]\n",
            "[(3, 3), (3, 3)]\n",
            "[(4, 4), (4, 4)]\n"
          ]
        }
      ]
    },
    {
      "cell_type": "code",
      "source": [
        "flat_map_rdd= map_rdd.flatMap(lambda x:x)"
      ],
      "metadata": {
        "id": "E-YVOeEP1AHL"
      },
      "execution_count": 10,
      "outputs": []
    },
    {
      "cell_type": "code",
      "source": [
        "for x in flat_map_rdd.collect():\n",
        "  print(x)"
      ],
      "metadata": {
        "colab": {
          "base_uri": "https://localhost:8080/"
        },
        "id": "liODFD_S1AMb",
        "outputId": "e0942096-7c4f-4bb1-ef21-4c99168aee3a"
      },
      "execution_count": 11,
      "outputs": [
        {
          "output_type": "stream",
          "name": "stdout",
          "text": [
            "(2, 2)\n",
            "(2, 2)\n",
            "(3, 3)\n",
            "(3, 3)\n",
            "(4, 4)\n",
            "(4, 4)\n"
          ]
        }
      ]
    },
    {
      "cell_type": "code",
      "source": [
        "#Wordcount example"
      ],
      "metadata": {
        "id": "Ug9xpB6N1APj"
      },
      "execution_count": 3,
      "outputs": []
    },
    {
      "cell_type": "code",
      "source": [
        "words=sc.textFile(\"/rdd_sample_text.txt\")"
      ],
      "metadata": {
        "id": "WWLbC4KN62aK"
      },
      "execution_count": 19,
      "outputs": []
    },
    {
      "cell_type": "code",
      "source": [
        "splitWords=words.flatMap(lambda line: line.split(\" \"))"
      ],
      "metadata": {
        "id": "oxFfn1WQ62dr"
      },
      "execution_count": 20,
      "outputs": []
    },
    {
      "cell_type": "code",
      "source": [
        "wordMap = splitWords.map(lambda word : (word,1))\n"
      ],
      "metadata": {
        "id": "zdRD167m62g6"
      },
      "execution_count": 21,
      "outputs": []
    },
    {
      "cell_type": "code",
      "source": [
        "wordCounts = wordMap.reduceByKey(lambda a,b: a+b)"
      ],
      "metadata": {
        "id": "5ZZJTJVV62jp"
      },
      "execution_count": 22,
      "outputs": []
    },
    {
      "cell_type": "code",
      "source": [
        "wordCounts.saveAsTextFile(\"/content/output_wordcount_one)\")"
      ],
      "metadata": {
        "id": "dtHZshXP62mh"
      },
      "execution_count": 24,
      "outputs": []
    },
    {
      "cell_type": "markdown",
      "source": [],
      "metadata": {
        "id": "RRocDViH9I9H"
      }
    },
    {
      "cell_type": "code",
      "source": [
        "lst=[2,3,4]\n",
        "lst_rdd=sc.parallelize(lst)\n",
        "fm_rdd= lst_rdd.flatMap(lambda x: range(1,x))"
      ],
      "metadata": {
        "id": "CfdGC71q62pb"
      },
      "execution_count": 25,
      "outputs": []
    },
    {
      "cell_type": "code",
      "source": [
        "for x in fm_rdd.collect():\n",
        "  print(x)"
      ],
      "metadata": {
        "colab": {
          "base_uri": "https://localhost:8080/"
        },
        "id": "oTZxX71862rp",
        "outputId": "02241744-2f15-4861-ab87-e5d325e862bd"
      },
      "execution_count": 26,
      "outputs": [
        {
          "output_type": "stream",
          "name": "stdout",
          "text": [
            "1\n",
            "1\n",
            "2\n",
            "1\n",
            "2\n",
            "3\n"
          ]
        }
      ]
    },
    {
      "cell_type": "code",
      "source": [
        "#read text file\n",
        "#split elements to words\n",
        "#return a list with elemts 1 and 0\n",
        "#vowels = 1 consonants = 0\n",
        "#format --> ('Sample',[0,1,0,0,0,1])"
      ],
      "metadata": {
        "id": "vHu_dUEs1AS8"
      },
      "execution_count": 3,
      "outputs": []
    },
    {
      "cell_type": "code",
      "source": [
        "words=sc.textFile(\"/rdd_sample_text.txt\")"
      ],
      "metadata": {
        "id": "PI4cxkAm1AV8"
      },
      "execution_count": 27,
      "outputs": []
    },
    {
      "cell_type": "code",
      "source": [
        "splitWords=words.flatMap(lambda line: line.split(\" \"))"
      ],
      "metadata": {
        "id": "Q8keNgTb1AY7"
      },
      "execution_count": 28,
      "outputs": []
    },
    {
      "cell_type": "code",
      "source": [
        "wordMap = splitWords.map(lambda x : (x,([1 if y in (\"aeiouAEIOU\") else 0 for y in x])))"
      ],
      "metadata": {
        "id": "QNtiMYyH1Adj"
      },
      "execution_count": 31,
      "outputs": []
    },
    {
      "cell_type": "code",
      "source": [
        "for x in wordMap.collect():\n",
        "  print(x)"
      ],
      "metadata": {
        "colab": {
          "base_uri": "https://localhost:8080/"
        },
        "id": "G1uXfrMZ1Ag-",
        "outputId": "1ddfc9e8-e9aa-4a25-ecc3-732c16df0118"
      },
      "execution_count": 32,
      "outputs": [
        {
          "output_type": "stream",
          "name": "stdout",
          "text": [
            "('Sample', [0, 1, 0, 0, 0, 1])\n",
            "('Text', [0, 1, 0, 0])\n",
            "('File', [0, 1, 0, 1])\n",
            "('I', [1])\n",
            "('am', [1, 0])\n",
            "('studying', [0, 0, 1, 0, 0, 1, 0, 0])\n",
            "('big', [0, 1, 0])\n",
            "('data', [0, 1, 0, 1])\n",
            "('in', [1, 0])\n",
            "('Luminar', [0, 1, 0, 1, 0, 1, 0])\n",
            "('Luminar', [0, 1, 0, 1, 0, 1, 0])\n",
            "('is', [1, 0])\n",
            "('located', [0, 1, 0, 1, 0, 1, 0])\n",
            "('in', [1, 0])\n",
            "('Kakkanad', [0, 1, 0, 0, 1, 0, 1, 0])\n",
            "('Ernakulam', [1, 0, 0, 1, 0, 1, 0, 1, 0])\n",
            "('Ernakulam', [1, 0, 0, 1, 0, 1, 0, 1, 0])\n",
            "('is', [1, 0])\n",
            "('a', [1])\n",
            "('state', [0, 0, 1, 0, 1])\n",
            "('in', [1, 0])\n",
            "('Kerala', [0, 1, 0, 1, 0, 1])\n",
            "('Kerala', [0, 1, 0, 1, 0, 1])\n",
            "('is', [1, 0])\n",
            "('Gods', [0, 1, 0, 0])\n",
            "('own', [1, 0, 0])\n",
            "('country', [0, 1, 1, 0, 0, 0, 0])\n"
          ]
        }
      ]
    },
    {
      "cell_type": "code",
      "source": [
        "def vowel_representing(x):\n",
        "    vowels = []\n",
        "    for y in x:\n",
        "        if y in 'aeiouAEIOU':\n",
        "            vowels.append(1)\n",
        "        else:\n",
        "            vowels.append(0) \n",
        "    return (x, vowels)\n",
        "result_rdd = split_txt.map(vowel_representing)       \n"
      ],
      "metadata": {
        "colab": {
          "base_uri": "https://localhost:8080/",
          "height": 200
        },
        "id": "71IkhFfH1AkG",
        "outputId": "558fd927-5ecc-42ca-d25f-40ee886f3719"
      },
      "execution_count": 45,
      "outputs": [
        {
          "output_type": "error",
          "ename": "NameError",
          "evalue": "ignored",
          "traceback": [
            "\u001b[0;31m---------------------------------------------------------------------------\u001b[0m",
            "\u001b[0;31mNameError\u001b[0m                                 Traceback (most recent call last)",
            "\u001b[0;32m<ipython-input-45-c48cd48ddbfc>\u001b[0m in \u001b[0;36m<module>\u001b[0;34m\u001b[0m\n\u001b[1;32m      7\u001b[0m             \u001b[0mvowels\u001b[0m\u001b[0;34m.\u001b[0m\u001b[0mappend\u001b[0m\u001b[0;34m(\u001b[0m\u001b[0;36m0\u001b[0m\u001b[0;34m)\u001b[0m\u001b[0;34m\u001b[0m\u001b[0;34m\u001b[0m\u001b[0m\n\u001b[1;32m      8\u001b[0m     \u001b[0;32mreturn\u001b[0m \u001b[0;34m(\u001b[0m\u001b[0mx\u001b[0m\u001b[0;34m,\u001b[0m \u001b[0mvowels\u001b[0m\u001b[0;34m)\u001b[0m\u001b[0;34m\u001b[0m\u001b[0;34m\u001b[0m\u001b[0m\n\u001b[0;32m----> 9\u001b[0;31m \u001b[0mresult_rdd\u001b[0m \u001b[0;34m=\u001b[0m \u001b[0msplit_txt\u001b[0m\u001b[0;34m.\u001b[0m\u001b[0mmap\u001b[0m\u001b[0;34m(\u001b[0m\u001b[0mvowel_representing\u001b[0m\u001b[0;34m)\u001b[0m\u001b[0;34m\u001b[0m\u001b[0;34m\u001b[0m\u001b[0m\n\u001b[0m",
            "\u001b[0;31mNameError\u001b[0m: name 'split_txt' is not defined"
          ]
        }
      ]
    },
    {
      "cell_type": "code",
      "source": [
        "for x in result_rdd.collect():\n",
        "  print(x)"
      ],
      "metadata": {
        "id": "Pghitqy6Gsi4"
      },
      "execution_count": null,
      "outputs": []
    },
    {
      "cell_type": "code",
      "source": [],
      "metadata": {
        "id": "q_a080q4Gsm0"
      },
      "execution_count": null,
      "outputs": []
    },
    {
      "cell_type": "code",
      "source": [],
      "metadata": {
        "id": "2jrwkiZeGsqE"
      },
      "execution_count": null,
      "outputs": []
    }
  ]
}