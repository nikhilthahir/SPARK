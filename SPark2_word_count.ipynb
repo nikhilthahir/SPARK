{
  "nbformat": 4,
  "nbformat_minor": 0,
  "metadata": {
    "colab": {
      "provenance": []
    },
    "kernelspec": {
      "name": "python3",
      "display_name": "Python 3"
    },
    "language_info": {
      "name": "python"
    }
  },
  "cells": [
    {
      "cell_type": "code",
      "execution_count": 1,
      "metadata": {
        "colab": {
          "base_uri": "https://localhost:8080/"
        },
        "id": "plQR6FVJA7Uj",
        "outputId": "a4f80cea-0497-4003-cd4e-c3e73680df33"
      },
      "outputs": [
        {
          "output_type": "stream",
          "name": "stdout",
          "text": [
            "Looking in indexes: https://pypi.org/simple, https://us-python.pkg.dev/colab-wheels/public/simple/\n",
            "Collecting pyspark\n",
            "  Downloading pyspark-3.3.1.tar.gz (281.4 MB)\n",
            "\u001b[2K     \u001b[90m━━━━━━━━━━━━━━━━━━━━━━━━━━━━━━━━━━━━━━━\u001b[0m \u001b[32m281.4/281.4 MB\u001b[0m \u001b[31m4.2 MB/s\u001b[0m eta \u001b[36m0:00:00\u001b[0m\n",
            "\u001b[?25h  Preparing metadata (setup.py) ... \u001b[?25l\u001b[?25hdone\n",
            "Collecting py4j==0.10.9.5\n",
            "  Downloading py4j-0.10.9.5-py2.py3-none-any.whl (199 kB)\n",
            "\u001b[2K     \u001b[90m━━━━━━━━━━━━━━━━━━━━━━━━━━━━━━━━━━━━━━\u001b[0m \u001b[32m199.7/199.7 KB\u001b[0m \u001b[31m16.3 MB/s\u001b[0m eta \u001b[36m0:00:00\u001b[0m\n",
            "\u001b[?25hBuilding wheels for collected packages: pyspark\n",
            "  Building wheel for pyspark (setup.py) ... \u001b[?25l\u001b[?25hdone\n",
            "  Created wheel for pyspark: filename=pyspark-3.3.1-py2.py3-none-any.whl size=281845512 sha256=544b1bde21a496b55846626c419af28f65172d2dc45cfcb231c27ee66b805652\n",
            "  Stored in directory: /root/.cache/pip/wheels/43/dc/11/ec201cd671da62fa9c5cc77078235e40722170ceba231d7598\n",
            "Successfully built pyspark\n",
            "Installing collected packages: py4j, pyspark\n",
            "Successfully installed py4j-0.10.9.5 pyspark-3.3.1\n"
          ]
        }
      ],
      "source": [
        "!pip install pyspark"
      ]
    },
    {
      "cell_type": "code",
      "source": [
        "from pyspark import SparkContext"
      ],
      "metadata": {
        "id": "ncU3AyWmB2jI"
      },
      "execution_count": 2,
      "outputs": []
    },
    {
      "cell_type": "code",
      "source": [
        "sc = SparkContext(\"local\",\"Pyspark wordcount example\")"
      ],
      "metadata": {
        "id": "tN1qZUR5B_hC"
      },
      "execution_count": 3,
      "outputs": []
    },
    {
      "cell_type": "code",
      "source": [
        "words = sc.textFile(\"/content/sample_data/README.md\")"
      ],
      "metadata": {
        "id": "QKkuBAAdCa14"
      },
      "execution_count": 4,
      "outputs": []
    },
    {
      "cell_type": "code",
      "source": [
        "splitWords= words.flatMap(lambda line: line.split(\" \"))"
      ],
      "metadata": {
        "id": "QtqbgBaSDETA"
      },
      "execution_count": 6,
      "outputs": []
    },
    {
      "cell_type": "code",
      "source": [
        "wordMap = splitWords.map(lambda word: (word, 1))"
      ],
      "metadata": {
        "id": "oYdsfFCzDPkO"
      },
      "execution_count": 8,
      "outputs": []
    },
    {
      "cell_type": "code",
      "source": [
        "wordCounts=  wordMap.reduceByKey(lambda a,b: a+b)"
      ],
      "metadata": {
        "id": "umwpkj2MDUvz"
      },
      "execution_count": 9,
      "outputs": []
    },
    {
      "cell_type": "code",
      "source": [
        "wordCounts.saveAsTextFile(\"/content/output_wordcount)\")"
      ],
      "metadata": {
        "id": "YusabmVN5Vvf"
      },
      "execution_count": 10,
      "outputs": []
    },
    {
      "cell_type": "code",
      "source": [
        "for x in wordCounts.collect():\n",
        "  print(x)"
      ],
      "metadata": {
        "colab": {
          "base_uri": "https://localhost:8080/"
        },
        "id": "sXhSN3eg5WI_",
        "outputId": "81d4d1e9-bd71-49eb-be8b-c945d7abb52b"
      },
      "execution_count": 11,
      "outputs": [
        {
          "output_type": "stream",
          "name": "stdout",
          "text": [
            "('This', 1)\n",
            "('directory', 1)\n",
            "('includes', 1)\n",
            "('a', 3)\n",
            "('few', 1)\n",
            "('sample', 2)\n",
            "('datasets', 1)\n",
            "('to', 1)\n",
            "('get', 1)\n",
            "('you', 1)\n",
            "('started.', 1)\n",
            "('', 51)\n",
            "('*', 3)\n",
            "('`california_housing_data*.csv`', 1)\n",
            "('is', 4)\n",
            "('California', 1)\n",
            "('housing', 1)\n",
            "('data', 1)\n",
            "('from', 1)\n",
            "('the', 3)\n",
            "('1990', 1)\n",
            "('US', 1)\n",
            "('Census;', 1)\n",
            "('more', 1)\n",
            "('information', 1)\n",
            "('available', 1)\n",
            "('at:', 2)\n",
            "('https://developers.google.com/machine-learning/crash-course/california-housing-data-description', 1)\n",
            "('`mnist_*.csv`', 1)\n",
            "('small', 1)\n",
            "('of', 2)\n",
            "('[MNIST', 1)\n",
            "('database](https://en.wikipedia.org/wiki/MNIST_database),', 1)\n",
            "('which', 1)\n",
            "('described', 2)\n",
            "('http://yann.lecun.com/exdb/mnist/', 1)\n",
            "('`anscombe.json`', 1)\n",
            "('contains', 1)\n",
            "('copy', 2)\n",
            "(\"[Anscombe's\", 1)\n",
            "('quartet](https://en.wikipedia.org/wiki/Anscombe%27s_quartet);', 1)\n",
            "('it', 1)\n",
            "('was', 2)\n",
            "('originally', 1)\n",
            "('in', 2)\n",
            "('Anscombe,', 1)\n",
            "('F.', 1)\n",
            "('J.', 1)\n",
            "('(1973).', 1)\n",
            "(\"'Graphs\", 1)\n",
            "('Statistical', 1)\n",
            "(\"Analysis'.\", 1)\n",
            "('American', 1)\n",
            "('Statistician.', 1)\n",
            "('27', 1)\n",
            "('(1):', 1)\n",
            "('17-21.', 1)\n",
            "('JSTOR', 1)\n",
            "('2682899.', 1)\n",
            "('and', 1)\n",
            "('our', 1)\n",
            "('prepared', 1)\n",
            "('by', 1)\n",
            "('[vega_datasets', 1)\n",
            "('library](https://github.com/altair-viz/vega_datasets/blob/4f67bdaad10f45e3549984e17e1b3088c731503d/vega_datasets/_data/anscombe.json).', 1)\n"
          ]
        }
      ]
    },
    {
      "cell_type": "code",
      "source": [],
      "metadata": {
        "id": "Y1ZwFxhT5WZA"
      },
      "execution_count": null,
      "outputs": []
    }
  ]
}