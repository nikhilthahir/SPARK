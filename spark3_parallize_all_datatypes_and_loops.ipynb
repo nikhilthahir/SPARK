{
  "nbformat": 4,
  "nbformat_minor": 0,
  "metadata": {
    "colab": {
      "provenance": []
    },
    "kernelspec": {
      "name": "python3",
      "display_name": "Python 3"
    },
    "language_info": {
      "name": "python"
    }
  },
  "cells": [
    {
      "cell_type": "code",
      "execution_count": 1,
      "metadata": {
        "colab": {
          "base_uri": "https://localhost:8080/"
        },
        "id": "0H9c8sHLGYNO",
        "outputId": "6a334bfb-1ed7-4636-d1ab-d96519ac08c5"
      },
      "outputs": [
        {
          "output_type": "stream",
          "name": "stdout",
          "text": [
            "Looking in indexes: https://pypi.org/simple, https://us-python.pkg.dev/colab-wheels/public/simple/\n",
            "Collecting pyspark\n",
            "  Downloading pyspark-3.3.1.tar.gz (281.4 MB)\n",
            "\u001b[2K     \u001b[90m━━━━━━━━━━━━━━━━━━━━━━━━━━━━━━━━━━━━━━━\u001b[0m \u001b[32m281.4/281.4 MB\u001b[0m \u001b[31m4.3 MB/s\u001b[0m eta \u001b[36m0:00:00\u001b[0m\n",
            "\u001b[?25h  Preparing metadata (setup.py) ... \u001b[?25l\u001b[?25hdone\n",
            "Collecting py4j==0.10.9.5\n",
            "  Downloading py4j-0.10.9.5-py2.py3-none-any.whl (199 kB)\n",
            "\u001b[2K     \u001b[90m━━━━━━━━━━━━━━━━━━━━━━━━━━━━━━━━━━━━━━\u001b[0m \u001b[32m199.7/199.7 KB\u001b[0m \u001b[31m17.4 MB/s\u001b[0m eta \u001b[36m0:00:00\u001b[0m\n",
            "\u001b[?25hBuilding wheels for collected packages: pyspark\n",
            "  Building wheel for pyspark (setup.py) ... \u001b[?25l\u001b[?25hdone\n",
            "  Created wheel for pyspark: filename=pyspark-3.3.1-py2.py3-none-any.whl size=281845512 sha256=f26374935993279f2dc32ffdf4b10d87f6b8390871e805cd7e7a67b2c358cb11\n",
            "  Stored in directory: /root/.cache/pip/wheels/43/dc/11/ec201cd671da62fa9c5cc77078235e40722170ceba231d7598\n",
            "Successfully built pyspark\n",
            "Installing collected packages: py4j, pyspark\n",
            "Successfully installed py4j-0.10.9.5 pyspark-3.3.1\n"
          ]
        }
      ],
      "source": [
        "!pip install pyspark\n"
      ]
    },
    {
      "cell_type": "code",
      "source": [
        "from pyspark import SparkContext"
      ],
      "metadata": {
        "id": "UnKe0hOoKrdL"
      },
      "execution_count": 2,
      "outputs": []
    },
    {
      "cell_type": "code",
      "source": [
        "sc = SparkContext(\"local\", \"Parallelize RDD creation\").getOrCreate()"
      ],
      "metadata": {
        "id": "CVHztANgK9Hi"
      },
      "execution_count": 3,
      "outputs": []
    },
    {
      "cell_type": "code",
      "source": [
        "python_list = [1,4,8,\"bigdata\",\"spark\",\"python\"]"
      ],
      "metadata": {
        "id": "sL3g-s0NLs8K"
      },
      "execution_count": 4,
      "outputs": []
    },
    {
      "cell_type": "code",
      "source": [
        "list_rdd=sc.parallelize(python_list)"
      ],
      "metadata": {
        "id": "H2Kkh3H7MNTA"
      },
      "execution_count": 6,
      "outputs": []
    },
    {
      "cell_type": "code",
      "source": [
        "for x in list_rdd.collect():\n",
        "  print(x)"
      ],
      "metadata": {
        "colab": {
          "base_uri": "https://localhost:8080/"
        },
        "id": "i738jEnmNLOI",
        "outputId": "e4ead6d6-ce57-4303-d800-a77d06bc0b27"
      },
      "execution_count": 7,
      "outputs": [
        {
          "output_type": "stream",
          "name": "stdout",
          "text": [
            "1\n",
            "4\n",
            "8\n",
            "bigdata\n",
            "spark\n",
            "python\n"
          ]
        }
      ]
    },
    {
      "cell_type": "code",
      "source": [
        "python_tuple = (\"name\",\"rahul\")\n"
      ],
      "metadata": {
        "id": "o3ozbR5_O20R"
      },
      "execution_count": 8,
      "outputs": []
    },
    {
      "cell_type": "code",
      "source": [
        "print(type(python_tuple))"
      ],
      "metadata": {
        "id": "cBUxe5mnNZ2J",
        "colab": {
          "base_uri": "https://localhost:8080/"
        },
        "outputId": "bc231f69-1604-4b6e-ceea-5200a9a8804d"
      },
      "execution_count": 9,
      "outputs": [
        {
          "output_type": "stream",
          "name": "stdout",
          "text": [
            "<class 'tuple'>\n"
          ]
        }
      ]
    },
    {
      "cell_type": "code",
      "source": [
        "tuple_rdd = sc.parallelize(python_tuple)"
      ],
      "metadata": {
        "id": "pcnEzPOGOd0p"
      },
      "execution_count": 10,
      "outputs": []
    },
    {
      "cell_type": "code",
      "source": [
        "for x in tuple_rdd.collect():\n",
        "  print(x)"
      ],
      "metadata": {
        "colab": {
          "base_uri": "https://localhost:8080/"
        },
        "id": "WWym7l7eSBIP",
        "outputId": "9069638f-1ca8-4d64-8a4a-92262635ec8c"
      },
      "execution_count": 11,
      "outputs": [
        {
          "output_type": "stream",
          "name": "stdout",
          "text": [
            "name\n",
            "rahul\n"
          ]
        }
      ]
    },
    {
      "cell_type": "code",
      "source": [
        "python_set = {1,4,5,2,\"A\",\"B\",4,5,\"a\"}"
      ],
      "metadata": {
        "id": "-gtI_s1tSNpl"
      },
      "execution_count": 12,
      "outputs": []
    },
    {
      "cell_type": "code",
      "source": [
        "set_rdd = sc.parallelize(python_set)"
      ],
      "metadata": {
        "id": "JslI2xuJXTFV"
      },
      "execution_count": 13,
      "outputs": []
    },
    {
      "cell_type": "code",
      "source": [
        "for x in set_rdd.collect():\n",
        "  print(x)"
      ],
      "metadata": {
        "colab": {
          "base_uri": "https://localhost:8080/"
        },
        "id": "VWFjEvqtXbm0",
        "outputId": "180677d4-3fc5-4e1d-dbf3-c851a5eedd6d"
      },
      "execution_count": 14,
      "outputs": [
        {
          "output_type": "stream",
          "name": "stdout",
          "text": [
            "1\n",
            "2\n",
            "4\n",
            "5\n",
            "a\n",
            "B\n",
            "A\n"
          ]
        }
      ]
    },
    {
      "cell_type": "code",
      "source": [
        "pyth_dict ={\"name\":\"rahul\",\"age\":18,\"luminar\":\"spark\"}"
      ],
      "metadata": {
        "id": "Lbv05ckMYL_Z"
      },
      "execution_count": 15,
      "outputs": []
    },
    {
      "cell_type": "code",
      "source": [
        "dict_rdd = sc.parallelize([pyth_dict])"
      ],
      "metadata": {
        "id": "YkhslDaaYUfk"
      },
      "execution_count": 19,
      "outputs": []
    },
    {
      "cell_type": "code",
      "source": [
        "for x in dict_rdd.collect():\n",
        "  print(x)"
      ],
      "metadata": {
        "colab": {
          "base_uri": "https://localhost:8080/"
        },
        "id": "rCQC-MapYW7b",
        "outputId": "95d7ef9e-d07f-420c-b5d2-5ac2ecbf25d6"
      },
      "execution_count": 20,
      "outputs": [
        {
          "output_type": "stream",
          "name": "stdout",
          "text": [
            "{'name': 'rahul', 'age': 18, 'luminar': 'spark'}\n"
          ]
        }
      ]
    },
    {
      "cell_type": "code",
      "source": [
        "num_rdd = sc.parallelize([I for I in range(0,31)])"
      ],
      "metadata": {
        "id": "ie18vG62Y6PL"
      },
      "execution_count": 21,
      "outputs": []
    },
    {
      "cell_type": "code",
      "source": [
        "for x in num_rdd.collect():\n",
        "  print(x)"
      ],
      "metadata": {
        "colab": {
          "base_uri": "https://localhost:8080/"
        },
        "id": "7qkZGCOuZx9c",
        "outputId": "7718024b-7452-44c7-aa0d-e61eefeea144"
      },
      "execution_count": 22,
      "outputs": [
        {
          "output_type": "stream",
          "name": "stdout",
          "text": [
            "0\n",
            "1\n",
            "2\n",
            "3\n",
            "4\n",
            "5\n",
            "6\n",
            "7\n",
            "8\n",
            "9\n",
            "10\n",
            "11\n",
            "12\n",
            "13\n",
            "14\n",
            "15\n",
            "16\n",
            "17\n",
            "18\n",
            "19\n",
            "20\n",
            "21\n",
            "22\n",
            "23\n",
            "24\n",
            "25\n",
            "26\n",
            "27\n",
            "28\n",
            "29\n",
            "30\n"
          ]
        }
      ]
    },
    {
      "cell_type": "code",
      "source": [
        "print(type(num_rdd))"
      ],
      "metadata": {
        "colab": {
          "base_uri": "https://localhost:8080/"
        },
        "id": "NGXRUcXMaFPB",
        "outputId": "992f5e9f-e5e6-4b42-87b5-18829dc3d71f"
      },
      "execution_count": 23,
      "outputs": [
        {
          "output_type": "stream",
          "name": "stdout",
          "text": [
            "<class 'pyspark.rdd.RDD'>\n"
          ]
        }
      ]
    },
    {
      "cell_type": "code",
      "source": [
        "num_rdd = sc.parallelize([i for i in range(1,31) if i%2 == 0])"
      ],
      "metadata": {
        "id": "n8Oo4nkpaRv6"
      },
      "execution_count": 25,
      "outputs": []
    },
    {
      "cell_type": "code",
      "source": [
        "for x in num_rdd.collect():\n",
        "  print(x)"
      ],
      "metadata": {
        "colab": {
          "base_uri": "https://localhost:8080/"
        },
        "id": "w5HG5I3sakP6",
        "outputId": "881d8e3a-f294-4149-f370-a0a7a75354d6"
      },
      "execution_count": 26,
      "outputs": [
        {
          "output_type": "stream",
          "name": "stdout",
          "text": [
            "2\n",
            "4\n",
            "6\n",
            "8\n",
            "10\n",
            "12\n",
            "14\n",
            "16\n",
            "18\n",
            "20\n",
            "22\n",
            "24\n",
            "26\n",
            "28\n",
            "30\n"
          ]
        }
      ]
    },
    {
      "cell_type": "code",
      "source": [
        "num_rdd = sc.parallelize([i**2 if i%2  == 0 else i for i in range(1,31)])"
      ],
      "metadata": {
        "id": "RwhqbX3xa48z"
      },
      "execution_count": 28,
      "outputs": []
    },
    {
      "cell_type": "code",
      "source": [
        "for x in num_rdd.collect():\n",
        "  print(x)"
      ],
      "metadata": {
        "colab": {
          "base_uri": "https://localhost:8080/"
        },
        "id": "FJx-C8_4baoK",
        "outputId": "4a795947-80cb-49c8-fd03-0a81872482d2"
      },
      "execution_count": 29,
      "outputs": [
        {
          "output_type": "stream",
          "name": "stdout",
          "text": [
            "1\n",
            "4\n",
            "3\n",
            "16\n",
            "5\n",
            "36\n",
            "7\n",
            "64\n",
            "9\n",
            "100\n",
            "11\n",
            "144\n",
            "13\n",
            "196\n",
            "15\n",
            "256\n",
            "17\n",
            "324\n",
            "19\n",
            "400\n",
            "21\n",
            "484\n",
            "23\n",
            "576\n",
            "25\n",
            "676\n",
            "27\n",
            "784\n",
            "29\n",
            "900\n"
          ]
        }
      ]
    },
    {
      "cell_type": "code",
      "source": [
        "num_rdd = sc.parallelize([(i,i**2) if i%2  == 0 else (i,i) for i in range(1,31)])"
      ],
      "metadata": {
        "id": "Yijgw_N1bxLV"
      },
      "execution_count": 30,
      "outputs": []
    },
    {
      "cell_type": "code",
      "source": [
        "for x in num_rdd.collect():\n",
        "  print(x)"
      ],
      "metadata": {
        "colab": {
          "base_uri": "https://localhost:8080/"
        },
        "id": "DA_Li5FYcESy",
        "outputId": "d2ed6c6e-828d-4fce-d100-1de1f0017998"
      },
      "execution_count": 31,
      "outputs": [
        {
          "output_type": "stream",
          "name": "stdout",
          "text": [
            "(1, 1)\n",
            "(2, 4)\n",
            "(3, 3)\n",
            "(4, 16)\n",
            "(5, 5)\n",
            "(6, 36)\n",
            "(7, 7)\n",
            "(8, 64)\n",
            "(9, 9)\n",
            "(10, 100)\n",
            "(11, 11)\n",
            "(12, 144)\n",
            "(13, 13)\n",
            "(14, 196)\n",
            "(15, 15)\n",
            "(16, 256)\n",
            "(17, 17)\n",
            "(18, 324)\n",
            "(19, 19)\n",
            "(20, 400)\n",
            "(21, 21)\n",
            "(22, 484)\n",
            "(23, 23)\n",
            "(24, 576)\n",
            "(25, 25)\n",
            "(26, 676)\n",
            "(27, 27)\n",
            "(28, 784)\n",
            "(29, 29)\n",
            "(30, 900)\n"
          ]
        }
      ]
    },
    {
      "cell_type": "code",
      "source": [
        "num_rdd = sc.parallelize(['small' if i <= 10 else 'medium' if 10<i<20 else 'large' for i in range(1,31)])"
      ],
      "metadata": {
        "id": "-RG97Ta5cHDR"
      },
      "execution_count": 35,
      "outputs": []
    },
    {
      "cell_type": "code",
      "source": [
        "for x in num_rdd.collect():\n",
        "  print(x)"
      ],
      "metadata": {
        "colab": {
          "base_uri": "https://localhost:8080/"
        },
        "id": "Atfqc440dblb",
        "outputId": "de136da1-0952-4945-8631-0333c2c45831"
      },
      "execution_count": 36,
      "outputs": [
        {
          "output_type": "stream",
          "name": "stdout",
          "text": [
            "small\n",
            "small\n",
            "small\n",
            "small\n",
            "small\n",
            "small\n",
            "small\n",
            "small\n",
            "small\n",
            "small\n",
            "medium\n",
            "medium\n",
            "medium\n",
            "medium\n",
            "medium\n",
            "medium\n",
            "medium\n",
            "medium\n",
            "medium\n",
            "large\n",
            "large\n",
            "large\n",
            "large\n",
            "large\n",
            "large\n",
            "large\n",
            "large\n",
            "large\n",
            "large\n",
            "large\n"
          ]
        }
      ]
    },
    {
      "cell_type": "code",
      "source": [
        "num_rdd = sc.parallelize([(i,'small') if i <= 10 else (i,'medium') if 10<i<20 else (i,'large') for i in range(1,31)])"
      ],
      "metadata": {
        "id": "qe-wXFgtdvj5"
      },
      "execution_count": 37,
      "outputs": []
    },
    {
      "cell_type": "code",
      "source": [
        "for x in num_rdd.collect():\n",
        "  print(x)"
      ],
      "metadata": {
        "colab": {
          "base_uri": "https://localhost:8080/"
        },
        "id": "CUWMEH8PeAWp",
        "outputId": "8a668e15-73c3-4d20-d1a9-1352a0fb7ea4"
      },
      "execution_count": 38,
      "outputs": [
        {
          "output_type": "stream",
          "name": "stdout",
          "text": [
            "(1, 'small')\n",
            "(2, 'small')\n",
            "(3, 'small')\n",
            "(4, 'small')\n",
            "(5, 'small')\n",
            "(6, 'small')\n",
            "(7, 'small')\n",
            "(8, 'small')\n",
            "(9, 'small')\n",
            "(10, 'small')\n",
            "(11, 'medium')\n",
            "(12, 'medium')\n",
            "(13, 'medium')\n",
            "(14, 'medium')\n",
            "(15, 'medium')\n",
            "(16, 'medium')\n",
            "(17, 'medium')\n",
            "(18, 'medium')\n",
            "(19, 'medium')\n",
            "(20, 'large')\n",
            "(21, 'large')\n",
            "(22, 'large')\n",
            "(23, 'large')\n",
            "(24, 'large')\n",
            "(25, 'large')\n",
            "(26, 'large')\n",
            "(27, 'large')\n",
            "(28, 'large')\n",
            "(29, 'large')\n",
            "(30, 'large')\n"
          ]
        }
      ]
    }
  ]
}